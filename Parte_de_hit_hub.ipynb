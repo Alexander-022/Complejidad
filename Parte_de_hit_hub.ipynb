{
  "nbformat": 4,
  "nbformat_minor": 0,
  "metadata": {
    "colab": {
      "name": "Parte de hit hub.ipynb",
      "provenance": []
    },
    "kernelspec": {
      "name": "python3",
      "display_name": "Python 3"
    },
    "language_info": {
      "name": "python"
    }
  },
  "cells": [
    {
      "cell_type": "markdown",
      "source": [
        ""
      ],
      "metadata": {
        "id": "7R8mU3gY1fLR"
      }
    },
    {
      "cell_type": "markdown",
      "source": [
        "# **Complejidad Computacional**\n",
        "\n",
        "**Unidad:** Complejidad Algorítmica\n",
        "\n",
        "**Estudiante:** Alexander Cañar-Rodriguez\n",
        "\n",
        "**2. Algoritmos de GITHUB**"
      ],
      "metadata": {
        "id": "mE3t7K7C7fjs"
      }
    },
    {
      "cell_type": "markdown",
      "source": [
        "Medicion temporal"
      ],
      "metadata": {
        "id": "5jciYpKM8IQb"
      }
    },
    {
      "cell_type": "code",
      "source": [
        "import time\n",
        "\n",
        "def factorial(n):\n",
        "    respuesta = 1\n",
        "\n",
        "    while n > 1:\n",
        "        respuesta *= n\n",
        "        n -= 1\n",
        "\n",
        "    return respuesta\n",
        "\n",
        "\n",
        "def factorial_r(n):\n",
        "    if n == 1:\n",
        "        return 1\n",
        "\n",
        "    return n * factorial(n - 1)\n",
        "\n",
        "\n",
        "if __name__ == '__main__':\n",
        "    n = 200000\n",
        "\n",
        "    comienzo = time.time()\n",
        "    factorial(n)\n",
        "    final = time.time()\n",
        "    print(final - comienzo)\n",
        "\n",
        "    comienzo = time.time()\n",
        "    factorial_r(n)\n",
        "    final = time.time()\n",
        "    print(final - comienzo)\n"
      ],
      "metadata": {
        "colab": {
          "base_uri": "https://localhost:8080/"
        },
        "id": "zm1JpAZY7gyn",
        "outputId": "270aeb2b-c4e4-47ff-8223-faf59f4f473d"
      },
      "execution_count": null,
      "outputs": [
        {
          "output_type": "stream",
          "name": "stdout",
          "text": [
            "15.800688028335571\n",
            "15.890492916107178\n"
          ]
        }
      ]
    },
    {
      "cell_type": "markdown",
      "source": [
        "Conteo abstracto de operación"
      ],
      "metadata": {
        "id": "TtBQVRJS8A30"
      }
    },
    {
      "cell_type": "code",
      "source": [
        "def f(x):\n",
        "\n",
        "    respuesta = 0\n",
        "\n",
        "    for i in range(1000):\n",
        "        respuesta += 1\n",
        "\n",
        "    for i in range(x):\n",
        "        respuesta += x\n",
        "\n",
        "    for i in range(x):\n",
        "        for j in range(x):\n",
        "            respuesta += 1\n",
        "            respuesta += 1\n",
        "\n",
        "    return respuesta"
      ],
      "metadata": {
        "id": "ywGmr4IiUc4O"
      },
      "execution_count": null,
      "outputs": []
    },
    {
      "cell_type": "markdown",
      "source": [
        "Notación asintótica"
      ],
      "metadata": {
        "id": "EvAQzBK4UlO6"
      }
    },
    {
      "cell_type": "code",
      "source": [
        "# Ley de la suma\n",
        "\n",
        "def f(n):\n",
        "    for i in range(n):\n",
        "        print(i)\n",
        "\n",
        "    for i in range(n):\n",
        "        print(i)\n",
        "\n",
        "# En este caso el mayor término es n\n",
        "# O(n) + O(n) = O(n + n) = O(2n) = O(n)"
      ],
      "metadata": {
        "id": "UO6LqguuUe04"
      },
      "execution_count": null,
      "outputs": []
    },
    {
      "cell_type": "code",
      "source": [
        "# Ley de la suma\n",
        "\n",
        "def f(n):\n",
        "    for i in range(n):\n",
        "        print(i)\n",
        "\n",
        "    for i in range(n * n):\n",
        "        print(i)\n",
        "\n",
        "# En este caso el mayor término es n²\n",
        "# O(n) + O(n * n) = O(n + n²) = O(n²)"
      ],
      "metadata": {
        "id": "f0yPkVKCUfW5"
      },
      "execution_count": null,
      "outputs": []
    },
    {
      "cell_type": "code",
      "source": [
        "# Ley de la multiplicación\n",
        "\n",
        "def f(n):\n",
        "\n",
        "    for i in range(n):\n",
        "\n",
        "        for i in range(n):\n",
        "            print(i, j)\n",
        "\n",
        "# En este caso el mayor término es n²\n",
        "# O(n) + O(n * n) = O(n * n) = O(n²)"
      ],
      "metadata": {
        "id": "eL_BI7VXVHke"
      },
      "execution_count": null,
      "outputs": []
    },
    {
      "cell_type": "code",
      "source": [
        "# Recursividad múltiple\n",
        "\n",
        "def fibonacci(n):\n",
        "\n",
        "    if n == 0 or n == 1:\n",
        "        return 1\n",
        "\n",
        "    return fibonacci(n - 1) +  fibonacci(n - 2)\n",
        "\n",
        "# En este caso el mayor término es 2**n (el símbolo ** denota \"elevado a\"),\n",
        "# ya que realiza recursividad 2 veces por n veces.\n",
        "# O(2**n)"
      ],
      "metadata": {
        "id": "EVNGa25gVIlB"
      },
      "execution_count": null,
      "outputs": []
    },
    {
      "cell_type": "markdown",
      "source": [
        "#Clases de complejidad algorítmica"
      ],
      "metadata": {
        "id": "fcymyMeEVMro"
      }
    },
    {
      "cell_type": "markdown",
      "source": [
        "Algoritmos de búsqueda y ordenación\n"
      ],
      "metadata": {
        "id": "bKa2uzJkVTto"
      }
    },
    {
      "cell_type": "markdown",
      "source": [
        "Búsqueda lineal"
      ],
      "metadata": {
        "id": "2buKg0wQVncP"
      }
    },
    {
      "cell_type": "code",
      "source": [
        "import random\n",
        "\n",
        "def busqueda_binaria(lista, comienzo, final, objetivo):\n",
        "    print(f'buscando {objetivo} entre {lista[comienzo]} y {lista[final - 1]}')\n",
        "    if comienzo > final:\n",
        "        return False\n",
        "\n",
        "    medio = (comienzo + final) // 2\n",
        "\n",
        "    if lista[medio] == objetivo:\n",
        "        return True\n",
        "    elif lista[medio] < objetivo:\n",
        "        return busqueda_binaria(lista, medio + 1, final, objetivo)\n",
        "    else:\n",
        "        return busqueda_binaria(lista, comienzo, medio - 1, objetivo)\n",
        "\n",
        "\n",
        "if __name__ == '__main__':\n",
        "    tamano_de_lista = int(input('De que tamano es la lista? '))\n",
        "    objetivo = int(input('Que numero quieres encontrar? '))\n",
        "\n",
        "    lista = sorted([random.randint(0, 100) for i in range(tamano_de_lista)])\n",
        "\n",
        "    encontrado = busqueda_binaria(lista, 0, len(lista), objetivo)\n",
        "\n",
        "    print(lista)\n",
        "    print(f'El elemento {objetivo} {\"esta\" if encontrado else \"no esta\"} en la lista')"
      ],
      "metadata": {
        "colab": {
          "base_uri": "https://localhost:8080/"
        },
        "id": "6ryZ_77W9JDj",
        "outputId": "dc0990e2-a30b-4b39-859b-13e6d30d1e1b"
      },
      "execution_count": null,
      "outputs": [
        {
          "output_type": "stream",
          "name": "stdout",
          "text": [
            "De que tamano es la lista? 72\n",
            "Que numero quieres encontrar? 3\n",
            "buscando 3 entre 0 y 99\n",
            "buscando 3 entre 0 y 38\n",
            "buscando 3 entre 0 y 14\n",
            "buscando 3 entre 0 y 6\n",
            "[0, 1, 2, 3, 4, 5, 6, 8, 8, 9, 11, 12, 12, 13, 13, 14, 14, 15, 15, 16, 16, 17, 18, 19, 20, 21, 21, 22, 27, 30, 31, 31, 34, 36, 38, 39, 43, 43, 45, 46, 46, 49, 54, 55, 56, 57, 58, 59, 63, 63, 65, 65, 66, 69, 69, 71, 73, 73, 77, 78, 80, 86, 87, 89, 90, 93, 94, 95, 95, 95, 96, 99]\n",
            "El elemento 3 esta en la lista\n"
          ]
        }
      ]
    },
    {
      "cell_type": "markdown",
      "source": [
        "Búsqueda binaria"
      ],
      "metadata": {
        "id": "nmZ_E6zVVujn"
      }
    },
    {
      "cell_type": "code",
      "source": [
        "import random\n",
        "\n",
        "def busqueda_binaria(lista, comienzo, final, objetivo):\n",
        "    print(f'buscando {objetivo} entre {lista[comienzo]} y {lista[final - 1]}')\n",
        "    if comienzo > final:\n",
        "        return False\n",
        "\n",
        "    medio = (comienzo + final) // 2\n",
        "\n",
        "    if lista[medio] == objetivo:\n",
        "        return True\n",
        "    elif lista[medio] < objetivo:\n",
        "        return busqueda_binaria(lista, medio + 1, final, objetivo)\n",
        "    else:\n",
        "        return busqueda_binaria(lista, comienzo, medio - 1, objetivo)\n",
        "\n",
        "\n",
        "if __name__ == '__main__':\n",
        "    tamano_de_lista = int(input('De que tamano es la lista? '))\n",
        "    objetivo = int(input('Que numero quieres encontrar? '))\n",
        "\n",
        "    lista = sorted([random.randint(0, 100) for i in range(tamano_de_lista)])\n",
        "\n",
        "    encontrado = busqueda_binaria(lista, 0, len(lista), objetivo)\n",
        "\n",
        "    print(lista)\n",
        "    print(f'El elemento {objetivo} {\"esta\" if encontrado else \"no esta\"} en la lista')"
      ],
      "metadata": {
        "colab": {
          "base_uri": "https://localhost:8080/"
        },
        "id": "icfugBCwVvjy",
        "outputId": "97642e4d-f198-4f08-a118-4c803caf7f0f"
      },
      "execution_count": 1,
      "outputs": [
        {
          "output_type": "stream",
          "name": "stdout",
          "text": [
            "De que tamano es la lista? 58\n",
            "Que numero quieres encontrar? 4\n",
            "buscando 4 entre 1 y 98\n",
            "buscando 4 entre 1 y 48\n",
            "buscando 4 entre 1 y 24\n",
            "buscando 4 entre 1 y 8\n",
            "buscando 4 entre 6 y 8\n",
            "buscando 4 entre 6 y 3\n",
            "buscando 4 entre 6 y 1\n",
            "[1, 1, 3, 6, 8, 13, 15, 15, 17, 20, 21, 22, 24, 25, 25, 26, 27, 32, 34, 35, 35, 39, 43, 43, 43, 45, 47, 48, 48, 53, 54, 56, 57, 57, 58, 59, 61, 62, 64, 67, 68, 69, 71, 75, 77, 77, 77, 79, 80, 82, 83, 84, 84, 89, 92, 94, 95, 98]\n",
            "El elemento 4 no esta en la lista\n"
          ]
        }
      ]
    },
    {
      "cell_type": "markdown",
      "source": [
        "Ordenamiento de burbuja"
      ],
      "metadata": {
        "id": "KZrZd45jV6ZC"
      }
    },
    {
      "cell_type": "code",
      "source": [
        "import random\n",
        "\n",
        "\n",
        "def ordenamiento_de_burbuja(lista):\n",
        "    n = len(lista)\n",
        "\n",
        "    for i in range(n):\n",
        "        for j in range(0, n - i - 1): # O(n) * O(n) = O(n * n) = O(n**2)\n",
        "\n",
        "            if lista[j] > lista[j + 1]:\n",
        "                lista[j], lista[j + 1] = lista[j + 1], lista[j]\n",
        "\n",
        "    return lista\n",
        "\n",
        "if __name__ == '__main__':\n",
        "    tamano_de_lista = int(input('De que tamano sera la lista? '))\n",
        "\n",
        "    lista = [random.randint(0, 100) for i in range(tamano_de_lista)]\n",
        "    print(lista)\n",
        "\n",
        "    lista_ordenada = ordenamiento_de_burbuja(lista)\n",
        "    print(lista_ordenada)"
      ],
      "metadata": {
        "colab": {
          "base_uri": "https://localhost:8080/"
        },
        "id": "IZ1nsseeV_H6",
        "outputId": "1060ff27-1faf-452d-a851-e57bea0eeb54"
      },
      "execution_count": 2,
      "outputs": [
        {
          "output_type": "stream",
          "name": "stdout",
          "text": [
            "De que tamano sera la lista? 100\n",
            "[24, 92, 66, 85, 81, 95, 35, 41, 34, 11, 65, 80, 56, 67, 95, 40, 87, 38, 73, 42, 79, 39, 46, 17, 87, 83, 62, 94, 59, 64, 10, 24, 75, 79, 66, 45, 57, 66, 78, 61, 25, 52, 77, 35, 85, 17, 91, 10, 13, 99, 59, 65, 26, 96, 34, 57, 69, 81, 43, 27, 3, 57, 39, 9, 9, 61, 78, 38, 55, 78, 1, 85, 21, 98, 91, 94, 93, 75, 9, 97, 0, 4, 13, 55, 76, 67, 2, 70, 36, 11, 67, 53, 63, 15, 83, 73, 38, 95, 27, 21]\n",
            "[0, 1, 2, 3, 4, 9, 9, 9, 10, 10, 11, 11, 13, 13, 15, 17, 17, 21, 21, 24, 24, 25, 26, 27, 27, 34, 34, 35, 35, 36, 38, 38, 38, 39, 39, 40, 41, 42, 43, 45, 46, 52, 53, 55, 55, 56, 57, 57, 57, 59, 59, 61, 61, 62, 63, 64, 65, 65, 66, 66, 66, 67, 67, 67, 69, 70, 73, 73, 75, 75, 76, 77, 78, 78, 78, 79, 79, 80, 81, 81, 83, 83, 85, 85, 85, 87, 87, 91, 91, 92, 93, 94, 94, 95, 95, 95, 96, 97, 98, 99]\n"
          ]
        }
      ]
    },
    {
      "cell_type": "markdown",
      "source": [
        "Ordenamiento por inserción"
      ],
      "metadata": {
        "id": "umbOjoJwWH0i"
      }
    },
    {
      "cell_type": "code",
      "source": [
        "def ordenamiento_por_insercion(lista):\n",
        "\n",
        "    for indice in range(1, len(lista)):\n",
        "        valor_actual = lista[indice]\n",
        "        posicion_actual = indice\n",
        "\n",
        "        while posicion_actual > 0 and lista[posicion_actual - 1] > valor_actual:\n",
        "            lista[posicion_actual] = lista[posicion_actual - 1]\n",
        "            posicion_actual -= 1\n",
        "\n",
        "        lista[posicion_actual] = valor_actual"
      ],
      "metadata": {
        "id": "vUWPJh42WK-S"
      },
      "execution_count": null,
      "outputs": []
    },
    {
      "cell_type": "markdown",
      "source": [
        "Ordenamiento por mezcla"
      ],
      "metadata": {
        "id": "Wb-UVKn2WSnR"
      }
    },
    {
      "cell_type": "code",
      "source": [
        "import random\n",
        "\n",
        "def ordenamiento_por_mezcla(lista):\n",
        "    if len(lista) > 1:\n",
        "        medio = len(lista) // 2\n",
        "        izquierda = lista[:medio]\n",
        "        derecha = lista[medio:]\n",
        "        print(izquierda, '*' * 5, derecha)\n",
        "\n",
        "        # llamada recursiva en cada mitad\n",
        "        ordenamiento_por_mezcla(izquierda)\n",
        "        ordenamiento_por_mezcla(derecha)\n",
        "\n",
        "        # Iteradores para recorrer las dos sublistas\n",
        "        i = 0\n",
        "        j = 0\n",
        "        # Iterador para la lista principal\n",
        "        k = 0\n",
        "\n",
        "        while i < len(izquierda) and j < len(derecha):\n",
        "            if izquierda[i] < derecha[j]:\n",
        "                lista[k] = izquierda[i]\n",
        "                i += 1\n",
        "            else:\n",
        "                lista[k] = derecha[j]\n",
        "                j += 1\n",
        "\n",
        "            k += 1\n",
        "\n",
        "        while i < len(izquierda):\n",
        "            lista[k] = izquierda[i]\n",
        "            i += 1\n",
        "            k +=1\n",
        "\n",
        "        while j < len(derecha):\n",
        "            lista[k] = derecha[j]\n",
        "            j += 1\n",
        "            k += 1\n",
        "        \n",
        "        print(f'izquierda {izquierda}, derecha {derecha}')\n",
        "        print(lista)\n",
        "        print('-' * 50)\n",
        "\n",
        "    return lista\n",
        "\n",
        "\n",
        "if __name__ == '__main__':\n",
        "    tamano_de_lista = int(input('De que tamano sera la lista? '))\n",
        "\n",
        "    lista = [random.randint(0, 100) for i in range(tamano_de_lista)]\n",
        "    print(lista)\n",
        "    print('-' * 20)\n",
        "\n",
        "    lista_ordenada = ordenamiento_por_mezcla(lista)\n",
        "    print(lista_ordenada)"
      ],
      "metadata": {
        "colab": {
          "base_uri": "https://localhost:8080/"
        },
        "id": "EcmFamgAWWfR",
        "outputId": "6b15edae-e435-4338-cec4-00789897f7e9"
      },
      "execution_count": 4,
      "outputs": [
        {
          "output_type": "stream",
          "name": "stdout",
          "text": [
            "De que tamano sera la lista? 12\n",
            "[33, 89, 64, 35, 84, 1, 55, 64, 35, 91, 15, 52]\n",
            "--------------------\n",
            "[33, 89, 64, 35, 84, 1] ***** [55, 64, 35, 91, 15, 52]\n",
            "[33, 89, 64] ***** [35, 84, 1]\n",
            "[33] ***** [89, 64]\n",
            "[89] ***** [64]\n",
            "izquierda [89], derecha [64]\n",
            "[64, 89]\n",
            "--------------------------------------------------\n",
            "izquierda [33], derecha [64, 89]\n",
            "[33, 64, 89]\n",
            "--------------------------------------------------\n",
            "[35] ***** [84, 1]\n",
            "[84] ***** [1]\n",
            "izquierda [84], derecha [1]\n",
            "[1, 84]\n",
            "--------------------------------------------------\n",
            "izquierda [35], derecha [1, 84]\n",
            "[1, 35, 84]\n",
            "--------------------------------------------------\n",
            "izquierda [33, 64, 89], derecha [1, 35, 84]\n",
            "[1, 33, 35, 64, 84, 89]\n",
            "--------------------------------------------------\n",
            "[55, 64, 35] ***** [91, 15, 52]\n",
            "[55] ***** [64, 35]\n",
            "[64] ***** [35]\n",
            "izquierda [64], derecha [35]\n",
            "[35, 64]\n",
            "--------------------------------------------------\n",
            "izquierda [55], derecha [35, 64]\n",
            "[35, 55, 64]\n",
            "--------------------------------------------------\n",
            "[91] ***** [15, 52]\n",
            "[15] ***** [52]\n",
            "izquierda [15], derecha [52]\n",
            "[15, 52]\n",
            "--------------------------------------------------\n",
            "izquierda [91], derecha [15, 52]\n",
            "[15, 52, 91]\n",
            "--------------------------------------------------\n",
            "izquierda [35, 55, 64], derecha [15, 52, 91]\n",
            "[15, 35, 52, 55, 64, 91]\n",
            "--------------------------------------------------\n",
            "izquierda [1, 33, 35, 64, 84, 89], derecha [15, 35, 52, 55, 64, 91]\n",
            "[1, 15, 33, 35, 35, 52, 55, 64, 64, 84, 89, 91]\n",
            "--------------------------------------------------\n",
            "[1, 15, 33, 35, 35, 52, 55, 64, 64, 84, 89, 91]\n"
          ]
        }
      ]
    }
  ]
}